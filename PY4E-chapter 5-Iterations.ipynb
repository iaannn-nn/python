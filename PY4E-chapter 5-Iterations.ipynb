{
 "cells": [
  {
   "cell_type": "code",
   "execution_count": 1,
   "metadata": {},
   "outputs": [
    {
     "ename": "NameError",
     "evalue": "name 'x' is not defined",
     "output_type": "error",
     "traceback": [
      "\u001b[0;31m---------------------------------------------------------------------------\u001b[0m",
      "\u001b[0;31mNameError\u001b[0m                                 Traceback (most recent call last)",
      "\u001b[0;32m<ipython-input-1-2d25c2ef041b>\u001b[0m in \u001b[0;36m<module>\u001b[0;34m\u001b[0m\n\u001b[0;32m----> 1\u001b[0;31m \u001b[0mx\u001b[0m \u001b[0;34m=\u001b[0m \u001b[0mx\u001b[0m \u001b[0;34m+\u001b[0m \u001b[0;36m1\u001b[0m\u001b[0;34m\u001b[0m\u001b[0;34m\u001b[0m\u001b[0m\n\u001b[0m",
      "\u001b[0;31mNameError\u001b[0m: name 'x' is not defined"
     ]
    }
   ],
   "source": [
    "x = x + 1"
   ]
  },
  {
   "cell_type": "code",
   "execution_count": 2,
   "metadata": {},
   "outputs": [],
   "source": [
    "x = 0\n",
    "x = x + 1"
   ]
  },
  {
   "cell_type": "code",
   "execution_count": 5,
   "metadata": {},
   "outputs": [
    {
     "name": "stdout",
     "output_type": "stream",
     "text": [
      "5\n",
      "4\n",
      "3\n",
      "2\n",
      "1\n",
      "finally, 0\n",
      "Blastoff!\n"
     ]
    }
   ],
   "source": [
    "n = 5\n",
    "while n > 0:\n",
    "    print(n)\n",
    "    n = n - 1\n",
    "print(\"finally,\",n)\n",
    "print('Blastoff!')"
   ]
  },
  {
   "cell_type": "code",
   "execution_count": 1,
   "metadata": {},
   "outputs": [
    {
     "name": "stdout",
     "output_type": "stream",
     "text": [
      "> hello\n",
      "hello\n",
      "> hey\n",
      "hey\n",
      "> done\n",
      "Done!\n"
     ]
    }
   ],
   "source": [
    "while True:\n",
    "    line = input('> ')\n",
    "    if line == 'done':\n",
    "        break\n",
    "    print(line)\n",
    "print('Done!')\n",
    "\n",
    "# Code: http://www.py4e.com/code3/copytildone1.py"
   ]
  },
  {
   "cell_type": "code",
   "execution_count": 2,
   "metadata": {},
   "outputs": [
    {
     "name": "stdout",
     "output_type": "stream",
     "text": [
      ">helo there\n",
      "helo there\n",
      "># ddon\n",
      ">print this!\n",
      "print this!\n",
      ">done\n",
      "Done!\n"
     ]
    }
   ],
   "source": [
    "while True:\n",
    "    line  = input('>')\n",
    "    if line[0] == '#':\n",
    "        continue\n",
    "    if line == 'done':\n",
    "        break\n",
    "    print(line)\n",
    "print('Done!')"
   ]
  },
  {
   "cell_type": "code",
   "execution_count": 3,
   "metadata": {},
   "outputs": [
    {
     "name": "stdout",
     "output_type": "stream",
     "text": [
      "Happy New Year: Joseph\n",
      "Happy New Year: Glenn\n",
      "Happy New Year: Sally\n",
      "Done!\n"
     ]
    }
   ],
   "source": [
    "friends = ['Joseph', 'Glenn', 'Sally']\n",
    "for friend in friends:\n",
    "    print('Happy New Year:', friend)\n",
    "print('Done!')"
   ]
  },
  {
   "cell_type": "code",
   "execution_count": 5,
   "metadata": {},
   "outputs": [
    {
     "name": "stdout",
     "output_type": "stream",
     "text": [
      "Count:  6\n"
     ]
    }
   ],
   "source": [
    "count = 0\n",
    "for itervar in [3, 41, 12 ,9, 74, 15]:\n",
    "    count = count + 1\n",
    "print('Count: ', count)"
   ]
  },
  {
   "cell_type": "code",
   "execution_count": 3,
   "metadata": {},
   "outputs": [
    {
     "name": "stdout",
     "output_type": "stream",
     "text": [
      "Total:  154\n"
     ]
    }
   ],
   "source": [
    "total = 0\n",
    "for itervar in [3,41,12,9, 74,15]:\n",
    "    total = total + itervar\n",
    "print('Total: ', total)"
   ]
  },
  {
   "cell_type": "code",
   "execution_count": 6,
   "metadata": {},
   "outputs": [
    {
     "name": "stdout",
     "output_type": "stream",
     "text": [
      "Before:  None\n",
      "Loop: 3 3\n",
      "Loop: 41 41\n",
      "Loop: 12 41\n",
      "Loop: 9 41\n",
      "Loop: 74 74\n",
      "Loop: 15 74\n",
      "Largest: 74\n"
     ]
    }
   ],
   "source": [
    "largest = None\n",
    "print('Before: ', largest)\n",
    "for itervar in [3, 41, 12, 9,74,15]:\n",
    "    if largest is None or itervar > largest:\n",
    "        largest = itervar\n",
    "    print('Loop:', itervar, largest)\n",
    "print('Largest:',largest)"
   ]
  },
  {
   "cell_type": "code",
   "execution_count": 7,
   "metadata": {},
   "outputs": [
    {
     "name": "stdout",
     "output_type": "stream",
     "text": [
      "Before: None\n",
      "Loop: 3 3\n",
      "Loop: 41 3\n",
      "Loop: 9 3\n",
      "Loop: 74 3\n",
      "Loop: 15 3\n",
      "Smallest: 3\n"
     ]
    }
   ],
   "source": [
    "smallest = None\n",
    "print('Before:', smallest)\n",
    "for itervar in [3,41,9, 74,15]:\n",
    "    if smallest is None or itervar < smallest:\n",
    "        smallest = itervar\n",
    "    print('Loop:', itervar, smallest)\n",
    "print('Smallest:', smallest)"
   ]
  },
  {
   "cell_type": "code",
   "execution_count": 8,
   "metadata": {},
   "outputs": [],
   "source": [
    "def min(values):\n",
    "    smallest = None\n",
    "    for value in values:\n",
    "        if smallest is None or value < smallest:\n",
    "            smallest = value\n",
    "    return smallest"
   ]
  },
  {
   "cell_type": "code",
   "execution_count": 14,
   "metadata": {},
   "outputs": [
    {
     "name": "stdout",
     "output_type": "stream",
     "text": [
      "Enter a number: 12\n",
      "Enter a number: 12\n",
      "Enter a number: nine\n",
      "Invalid input\n",
      "Enter a number: done\n",
      "24.0 2 12.0\n"
     ]
    }
   ],
   "source": [
    "#ex1:\n",
    "total = 0\n",
    "count = 0\n",
    "while True:\n",
    "    try:\n",
    "        inp = input(\"Enter a number: \")\n",
    "        if inp == 'done':\n",
    "            break\n",
    "        total = total + float(inp)\n",
    "        count = count + 1\n",
    "    except:\n",
    "        print(\"Invalid input\")\n",
    "        continue\n",
    "print(total, count, total/count)"
   ]
  },
  {
   "cell_type": "code",
   "execution_count": 23,
   "metadata": {},
   "outputs": [
    {
     "name": "stdout",
     "output_type": "stream",
     "text": [
      "Enter a number: 12\n",
      "Enter a number: 57\n",
      "Enter a number: 23\n",
      "Enter a number: \n",
      "Invalid input\n",
      "Enter a number: done\n",
      "57.0 12.0\n"
     ]
    }
   ],
   "source": [
    "max = None\n",
    "min = None\n",
    "while True:\n",
    "    try:\n",
    "        inp = input(\"Enter a number: \")\n",
    "        if inp == 'done':\n",
    "            break\n",
    "        num = float(inp)\n",
    "        if max == None or min == None:\n",
    "            max = num\n",
    "            min = num\n",
    "            continue\n",
    "        if float(inp) > max:\n",
    "            max = float(inp)\n",
    "        if float(inp) < min:\n",
    "            min = float(inp)\n",
    "    except:\n",
    "        print(\"Invalid input\")\n",
    "        continue\n",
    "print(max, min)    "
   ]
  },
  {
   "cell_type": "code",
   "execution_count": null,
   "metadata": {},
   "outputs": [],
   "source": []
  }
 ],
 "metadata": {
  "kernelspec": {
   "display_name": "Python 3",
   "language": "python",
   "name": "python3"
  },
  "language_info": {
   "codemirror_mode": {
    "name": "ipython",
    "version": 3
   },
   "file_extension": ".py",
   "mimetype": "text/x-python",
   "name": "python",
   "nbconvert_exporter": "python",
   "pygments_lexer": "ipython3",
   "version": "3.6.9"
  }
 },
 "nbformat": 4,
 "nbformat_minor": 4
}
